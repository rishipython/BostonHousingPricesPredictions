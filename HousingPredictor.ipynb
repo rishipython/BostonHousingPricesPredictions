{
  "nbformat": 4,
  "nbformat_minor": 0,
  "metadata": {
    "colab": {
      "name": "HousingPredictor.ipynb",
      "provenance": [],
      "mount_file_id": "1uL7rqhQaFCMgFMVrXnoKUC1NORKjdlBj",
      "authorship_tag": "ABX9TyO1Fzix88PkfNlsQaLfrBYq",
      "include_colab_link": true
    },
    "kernelspec": {
      "name": "python3",
      "display_name": "Python 3"
    }
  },
  "cells": [
    {
      "cell_type": "markdown",
      "metadata": {
        "id": "view-in-github",
        "colab_type": "text"
      },
      "source": [
        "<a href=\"https://colab.research.google.com/github/rishipython/BostonHousingPricesPredictions/blob/main/HousingPredictor.ipynb\" target=\"_parent\"><img src=\"https://colab.research.google.com/assets/colab-badge.svg\" alt=\"Open In Colab\"/></a>"
      ]
    },
    {
      "cell_type": "code",
      "metadata": {
        "id": "J-CIpnzBrr1A"
      },
      "source": [
        "import tensorflow as tf\r\n",
        "from tensorflow import keras\r\n",
        "from sklearn.preprocessing import StandardScaler\r\n",
        "import numpy as np\r\n",
        "import math\r\n",
        "from random import randint\r\n",
        "import os\r\n",
        "from sklearn.externals import joblib"
      ],
      "execution_count": 12,
      "outputs": []
    },
    {
      "cell_type": "code",
      "metadata": {
        "colab": {
          "base_uri": "https://localhost:8080/"
        },
        "id": "YGt5cJmqr-m7",
        "outputId": "8a3604cb-ef17-4c9d-ecec-931142ab887d"
      },
      "source": [
        "from google.colab import drive\r\n",
        "drive.mount('/content/drive')"
      ],
      "execution_count": 13,
      "outputs": [
        {
          "output_type": "stream",
          "text": [
            "Drive already mounted at /content/drive; to attempt to forcibly remount, call drive.mount(\"/content/drive\", force_remount=True).\n"
          ],
          "name": "stdout"
        }
      ]
    },
    {
      "cell_type": "code",
      "metadata": {
        "id": "JdMUduYbsLXk"
      },
      "source": [
        "dir = f'{os.sep}content{os.sep}drive{os.sep}My Drive{os.sep}HousingPredictor{os.sep}'"
      ],
      "execution_count": 15,
      "outputs": []
    },
    {
      "cell_type": "code",
      "metadata": {
        "id": "yKXfL-mbrxnw"
      },
      "source": [
        "# Says whether or not to train\r\n",
        "train = True"
      ],
      "execution_count": 14,
      "outputs": []
    },
    {
      "cell_type": "code",
      "metadata": {
        "colab": {
          "base_uri": "https://localhost:8080/"
        },
        "id": "3tN2AClBs-58",
        "outputId": "f9beb4e3-3477-4a80-ccb8-12badb63046d"
      },
      "source": [
        "# Data\r\n",
        "data = keras.datasets.boston_housing\r\n",
        "(xtrain, ytrain), (xtest, ytest) = data.load_data()\r\n",
        "INPUT_SIZE = len(xtrain[0])\r\n",
        "OUTPUT_SIZE = ytrain[0].size\r\n",
        "\r\n",
        "# Feature scaling\r\n",
        "scaler = StandardScaler()\r\n",
        "xtrain = scaler.fit_transform(xtrain)\r\n",
        "xtest = scaler.transform(xtest)\r\n",
        "\r\n",
        "np.save(dir + 'xtrain.npy', xtrain)\r\n",
        "np.save(dir + 'xtest.npy', xtest)\r\n",
        "np.save(dir + 'ytrain.npy', ytrain)\r\n",
        "np.save(dir + 'ytest.npy', ytest)\r\n",
        "scaler_filename = \"scaler.save\"\r\n",
        "joblib.dump(scaler, dir + scaler_filename)"
      ],
      "execution_count": 16,
      "outputs": [
        {
          "output_type": "execute_result",
          "data": {
            "text/plain": [
              "['/content/drive/My Drive/HousingPredictor/scaler.save']"
            ]
          },
          "metadata": {
            "tags": []
          },
          "execution_count": 16
        }
      ]
    },
    {
      "cell_type": "code",
      "metadata": {
        "colab": {
          "base_uri": "https://localhost:8080/"
        },
        "id": "KCAqCurkrnsT",
        "outputId": "d686fbf1-fe79-4b86-8840-fe16f9b86944"
      },
      "source": [
        "# Model\r\n",
        "if train:\r\n",
        "    model = keras.Sequential([\r\n",
        "        keras.layers.Dense(INPUT_SIZE, activation='relu'),\r\n",
        "        keras.layers.Dense(500, activation='relu'),\r\n",
        "        keras.layers.Dense(500, activation='relu'),\r\n",
        "        keras.layers.Dense(500, activation='relu'),\r\n",
        "        keras.layers.Dropout(0.3),\r\n",
        "        keras.layers.Dense(OUTPUT_SIZE, activation='relu')\r\n",
        "    ])\r\n",
        "\r\n",
        "    # Compile model\r\n",
        "    optimizer = tf.keras.optimizers.RMSprop(0.001)\r\n",
        "\r\n",
        "    model.compile(loss='mse',\r\n",
        "                optimizer=optimizer,\r\n",
        "                metrics=['mae', 'mse'])\r\n",
        "\r\n",
        "    # Fits model to training set\r\n",
        "    model.fit(xtrain, ytrain, batch_size=10, epochs=80)\r\n",
        "\r\n",
        "    # Saves model\r\n",
        "    model.save(dir + \"boston_housing_model\")\r\n",
        "else:\r\n",
        "    # Loads model\r\n",
        "    model = keras.models.load_model(dir + 'boston_housing_model')"
      ],
      "execution_count": 83,
      "outputs": [
        {
          "output_type": "stream",
          "text": [
            "Epoch 1/80\n",
            "41/41 [==============================] - 1s 6ms/step - loss: 230.9150 - mae: 12.0316 - mse: 230.9150\n",
            "Epoch 2/80\n",
            "41/41 [==============================] - 0s 5ms/step - loss: 48.9563 - mae: 5.3337 - mse: 48.9563\n",
            "Epoch 3/80\n",
            "41/41 [==============================] - 0s 6ms/step - loss: 39.8078 - mae: 4.5095 - mse: 39.8078\n",
            "Epoch 4/80\n",
            "41/41 [==============================] - 0s 5ms/step - loss: 32.2062 - mae: 4.2262 - mse: 32.2062\n",
            "Epoch 5/80\n",
            "41/41 [==============================] - 0s 5ms/step - loss: 24.6450 - mae: 3.6951 - mse: 24.6450\n",
            "Epoch 6/80\n",
            "41/41 [==============================] - 0s 5ms/step - loss: 25.8175 - mae: 3.5882 - mse: 25.8175\n",
            "Epoch 7/80\n",
            "41/41 [==============================] - 0s 5ms/step - loss: 24.1852 - mae: 3.5462 - mse: 24.1852\n",
            "Epoch 8/80\n",
            "41/41 [==============================] - 0s 5ms/step - loss: 28.5364 - mae: 3.5519 - mse: 28.5364\n",
            "Epoch 9/80\n",
            "41/41 [==============================] - 0s 6ms/step - loss: 15.9587 - mae: 2.9286 - mse: 15.9587\n",
            "Epoch 10/80\n",
            "41/41 [==============================] - 0s 5ms/step - loss: 17.9302 - mae: 3.1079 - mse: 17.9302\n",
            "Epoch 11/80\n",
            "41/41 [==============================] - 0s 5ms/step - loss: 17.5753 - mae: 2.9052 - mse: 17.5753\n",
            "Epoch 12/80\n",
            "41/41 [==============================] - 0s 5ms/step - loss: 15.9557 - mae: 2.9954 - mse: 15.9557\n",
            "Epoch 13/80\n",
            "41/41 [==============================] - 0s 5ms/step - loss: 15.4578 - mae: 2.9501 - mse: 15.4578\n",
            "Epoch 14/80\n",
            "41/41 [==============================] - 0s 5ms/step - loss: 17.6069 - mae: 3.0272 - mse: 17.6069\n",
            "Epoch 15/80\n",
            "41/41 [==============================] - 0s 5ms/step - loss: 18.4712 - mae: 2.9494 - mse: 18.4712\n",
            "Epoch 16/80\n",
            "41/41 [==============================] - 0s 5ms/step - loss: 12.9467 - mae: 2.4899 - mse: 12.9467\n",
            "Epoch 17/80\n",
            "41/41 [==============================] - 0s 5ms/step - loss: 15.1495 - mae: 2.6756 - mse: 15.1495\n",
            "Epoch 18/80\n",
            "41/41 [==============================] - 0s 6ms/step - loss: 15.1245 - mae: 2.8292 - mse: 15.1245\n",
            "Epoch 19/80\n",
            "41/41 [==============================] - 0s 5ms/step - loss: 17.4540 - mae: 2.8233 - mse: 17.4540\n",
            "Epoch 20/80\n",
            "41/41 [==============================] - 0s 5ms/step - loss: 11.2505 - mae: 2.3382 - mse: 11.2505\n",
            "Epoch 21/80\n",
            "41/41 [==============================] - 0s 5ms/step - loss: 17.2284 - mae: 3.0202 - mse: 17.2284\n",
            "Epoch 22/80\n",
            "41/41 [==============================] - 0s 5ms/step - loss: 11.6408 - mae: 2.5162 - mse: 11.6408\n",
            "Epoch 23/80\n",
            "41/41 [==============================] - 0s 5ms/step - loss: 13.0135 - mae: 2.6316 - mse: 13.0135\n",
            "Epoch 24/80\n",
            "41/41 [==============================] - 0s 5ms/step - loss: 11.4091 - mae: 2.4930 - mse: 11.4091\n",
            "Epoch 25/80\n",
            "41/41 [==============================] - 0s 5ms/step - loss: 16.2212 - mae: 2.7873 - mse: 16.2212\n",
            "Epoch 26/80\n",
            "41/41 [==============================] - 0s 5ms/step - loss: 12.1449 - mae: 2.6557 - mse: 12.1449\n",
            "Epoch 27/80\n",
            "41/41 [==============================] - 0s 5ms/step - loss: 9.6042 - mae: 2.3637 - mse: 9.6042\n",
            "Epoch 28/80\n",
            "41/41 [==============================] - 0s 5ms/step - loss: 12.7273 - mae: 2.6887 - mse: 12.7273\n",
            "Epoch 29/80\n",
            "41/41 [==============================] - 0s 5ms/step - loss: 12.8330 - mae: 2.6175 - mse: 12.8330\n",
            "Epoch 30/80\n",
            "41/41 [==============================] - 0s 6ms/step - loss: 11.3144 - mae: 2.4139 - mse: 11.3144\n",
            "Epoch 31/80\n",
            "41/41 [==============================] - 0s 5ms/step - loss: 9.6954 - mae: 2.4093 - mse: 9.6954\n",
            "Epoch 32/80\n",
            "41/41 [==============================] - 0s 5ms/step - loss: 9.1643 - mae: 2.2918 - mse: 9.1643\n",
            "Epoch 33/80\n",
            "41/41 [==============================] - 0s 5ms/step - loss: 11.3371 - mae: 2.4573 - mse: 11.3371\n",
            "Epoch 34/80\n",
            "41/41 [==============================] - 0s 5ms/step - loss: 8.5024 - mae: 2.2265 - mse: 8.5024\n",
            "Epoch 35/80\n",
            "41/41 [==============================] - 0s 6ms/step - loss: 10.7785 - mae: 2.5021 - mse: 10.7785\n",
            "Epoch 36/80\n",
            "41/41 [==============================] - 0s 5ms/step - loss: 9.3697 - mae: 2.2638 - mse: 9.3697\n",
            "Epoch 37/80\n",
            "41/41 [==============================] - 0s 5ms/step - loss: 8.2164 - mae: 2.1906 - mse: 8.2164\n",
            "Epoch 38/80\n",
            "41/41 [==============================] - 0s 5ms/step - loss: 9.0161 - mae: 2.2149 - mse: 9.0161\n",
            "Epoch 39/80\n",
            "41/41 [==============================] - 0s 6ms/step - loss: 8.0407 - mae: 2.0400 - mse: 8.0407\n",
            "Epoch 40/80\n",
            "41/41 [==============================] - 0s 5ms/step - loss: 9.2656 - mae: 2.1783 - mse: 9.2656\n",
            "Epoch 41/80\n",
            "41/41 [==============================] - 0s 5ms/step - loss: 10.8615 - mae: 2.5224 - mse: 10.8615\n",
            "Epoch 42/80\n",
            "41/41 [==============================] - 0s 5ms/step - loss: 7.3491 - mae: 2.0563 - mse: 7.3491\n",
            "Epoch 43/80\n",
            "41/41 [==============================] - 0s 5ms/step - loss: 7.0715 - mae: 2.1016 - mse: 7.0715\n",
            "Epoch 44/80\n",
            "41/41 [==============================] - 0s 5ms/step - loss: 9.5010 - mae: 2.3229 - mse: 9.5010\n",
            "Epoch 45/80\n",
            "41/41 [==============================] - 0s 6ms/step - loss: 7.3398 - mae: 2.0392 - mse: 7.3398\n",
            "Epoch 46/80\n",
            "41/41 [==============================] - 0s 5ms/step - loss: 9.1047 - mae: 2.1859 - mse: 9.1047\n",
            "Epoch 47/80\n",
            "41/41 [==============================] - 0s 6ms/step - loss: 7.1628 - mae: 1.9912 - mse: 7.1628\n",
            "Epoch 48/80\n",
            "41/41 [==============================] - 0s 5ms/step - loss: 10.3745 - mae: 2.3426 - mse: 10.3745\n",
            "Epoch 49/80\n",
            "41/41 [==============================] - 0s 5ms/step - loss: 7.3716 - mae: 2.0667 - mse: 7.3716\n",
            "Epoch 50/80\n",
            "41/41 [==============================] - 0s 5ms/step - loss: 7.2528 - mae: 2.1073 - mse: 7.2528\n",
            "Epoch 51/80\n",
            "41/41 [==============================] - 0s 6ms/step - loss: 8.8452 - mae: 2.2824 - mse: 8.8452\n",
            "Epoch 52/80\n",
            "41/41 [==============================] - 0s 5ms/step - loss: 8.0845 - mae: 2.1001 - mse: 8.0845\n",
            "Epoch 53/80\n",
            "41/41 [==============================] - 0s 5ms/step - loss: 8.6238 - mae: 2.2156 - mse: 8.6238\n",
            "Epoch 54/80\n",
            "41/41 [==============================] - 0s 5ms/step - loss: 9.6826 - mae: 2.2324 - mse: 9.6826\n",
            "Epoch 55/80\n",
            "41/41 [==============================] - 0s 6ms/step - loss: 6.9344 - mae: 2.0228 - mse: 6.9344\n",
            "Epoch 56/80\n",
            "41/41 [==============================] - 0s 5ms/step - loss: 8.0647 - mae: 2.1211 - mse: 8.0647\n",
            "Epoch 57/80\n",
            "41/41 [==============================] - 0s 6ms/step - loss: 6.3324 - mae: 1.9464 - mse: 6.3324\n",
            "Epoch 58/80\n",
            "41/41 [==============================] - 0s 5ms/step - loss: 6.2992 - mae: 1.9359 - mse: 6.2992\n",
            "Epoch 59/80\n",
            "41/41 [==============================] - 0s 5ms/step - loss: 6.8367 - mae: 1.9345 - mse: 6.8367\n",
            "Epoch 60/80\n",
            "41/41 [==============================] - 0s 5ms/step - loss: 6.2512 - mae: 1.8701 - mse: 6.2512\n",
            "Epoch 61/80\n",
            "41/41 [==============================] - 0s 5ms/step - loss: 7.4112 - mae: 2.0840 - mse: 7.4112\n",
            "Epoch 62/80\n",
            "41/41 [==============================] - 0s 5ms/step - loss: 5.4304 - mae: 1.7377 - mse: 5.4304\n",
            "Epoch 63/80\n",
            "41/41 [==============================] - 0s 5ms/step - loss: 6.7656 - mae: 1.9771 - mse: 6.7656\n",
            "Epoch 64/80\n",
            "41/41 [==============================] - 0s 6ms/step - loss: 6.7793 - mae: 1.9893 - mse: 6.7793\n",
            "Epoch 65/80\n",
            "41/41 [==============================] - 0s 6ms/step - loss: 12.1477 - mae: 2.2440 - mse: 12.1477\n",
            "Epoch 66/80\n",
            "41/41 [==============================] - 0s 5ms/step - loss: 10.0572 - mae: 2.4062 - mse: 10.0572\n",
            "Epoch 67/80\n",
            "41/41 [==============================] - 0s 5ms/step - loss: 7.2847 - mae: 2.0622 - mse: 7.2847\n",
            "Epoch 68/80\n",
            "41/41 [==============================] - 0s 5ms/step - loss: 7.3574 - mae: 2.0450 - mse: 7.3574\n",
            "Epoch 69/80\n",
            "41/41 [==============================] - 0s 6ms/step - loss: 8.4595 - mae: 2.1561 - mse: 8.4595\n",
            "Epoch 70/80\n",
            "41/41 [==============================] - 0s 5ms/step - loss: 5.8691 - mae: 1.7786 - mse: 5.8691\n",
            "Epoch 71/80\n",
            "41/41 [==============================] - 0s 5ms/step - loss: 6.7821 - mae: 1.9228 - mse: 6.7821\n",
            "Epoch 72/80\n",
            "41/41 [==============================] - 0s 5ms/step - loss: 5.5302 - mae: 1.7714 - mse: 5.5302\n",
            "Epoch 73/80\n",
            "41/41 [==============================] - 0s 5ms/step - loss: 6.8027 - mae: 1.8862 - mse: 6.8027\n",
            "Epoch 74/80\n",
            "41/41 [==============================] - 0s 6ms/step - loss: 6.3388 - mae: 1.8732 - mse: 6.3388\n",
            "Epoch 75/80\n",
            "41/41 [==============================] - 0s 5ms/step - loss: 6.5494 - mae: 1.9172 - mse: 6.5494\n",
            "Epoch 76/80\n",
            "41/41 [==============================] - 0s 5ms/step - loss: 5.4426 - mae: 1.7800 - mse: 5.4426\n",
            "Epoch 77/80\n",
            "41/41 [==============================] - 0s 5ms/step - loss: 6.6893 - mae: 1.9273 - mse: 6.6893\n",
            "Epoch 78/80\n",
            "41/41 [==============================] - 0s 6ms/step - loss: 7.3015 - mae: 2.0679 - mse: 7.3015\n",
            "Epoch 79/80\n",
            "41/41 [==============================] - 0s 5ms/step - loss: 5.0550 - mae: 1.6208 - mse: 5.0550\n",
            "Epoch 80/80\n",
            "41/41 [==============================] - 0s 6ms/step - loss: 5.0767 - mae: 1.7377 - mse: 5.0767\n",
            "INFO:tensorflow:Assets written to: /content/drive/My Drive/HousingPredictor/boston_housing_model/assets\n"
          ],
          "name": "stdout"
        }
      ]
    },
    {
      "cell_type": "code",
      "metadata": {
        "colab": {
          "base_uri": "https://localhost:8080/"
        },
        "id": "Lci9c1yVtY51",
        "outputId": "93f0cd12-e11c-41f9-9b25-9636dd993294"
      },
      "source": [
        "# Evaluates model\r\n",
        "loss = model.evaluate(xtest, ytest)\r\n",
        "print(f\"Loss: {loss}\")"
      ],
      "execution_count": 84,
      "outputs": [
        {
          "output_type": "stream",
          "text": [
            "4/4 [==============================] - 0s 3ms/step - loss: 17.0599 - mae: 2.6055 - mse: 17.0599\n",
            "Loss: [17.059917449951172, 2.605482578277588, 17.059917449951172]\n"
          ],
          "name": "stdout"
        }
      ]
    },
    {
      "cell_type": "code",
      "metadata": {
        "colab": {
          "base_uri": "https://localhost:8080/"
        },
        "id": "ZXuKx0X3taxr",
        "outputId": "99b554a2-8277-44c0-88ee-6265a057547a"
      },
      "source": [
        "# Makes predictions for random houses\r\n",
        "i = randint(0, len(xtest)-1)\r\n",
        "pred = model.predict(np.array([xtest[i]]))[0][0]\r\n",
        "print(f\"Data: {scaler.inverse_transform(xtest[i])}\")\r\n",
        "print(f\"Model prediction: {pred}\")\r\n",
        "print(f\"Actual value: {ytest[i]}\")"
      ],
      "execution_count": 90,
      "outputs": [
        {
          "output_type": "stream",
          "text": [
            "Data: [3.7050000e-02 2.0000000e+01 3.3300000e+00 6.9388939e-18 4.4290000e-01\n",
            " 6.9680000e+00 3.7200000e+01 5.2447000e+00 5.0000000e+00 2.1600000e+02\n",
            " 1.4900000e+01 3.9223000e+02 4.5900000e+00]\n",
            "Model prediction: 35.45538330078125\n",
            "Actual value: 35.4\n"
          ],
          "name": "stdout"
        }
      ]
    }
  ]
}